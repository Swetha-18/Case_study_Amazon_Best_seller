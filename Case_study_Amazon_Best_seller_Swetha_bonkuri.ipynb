{
  "nbformat": 4,
  "nbformat_minor": 0,
  "metadata": {
    "colab": {
      "provenance": [],
      "authorship_tag": "ABX9TyOT/rd00Q9bJ/ULEYlw6mFz",
      "include_colab_link": true
    },
    "kernelspec": {
      "name": "python3",
      "display_name": "Python 3"
    },
    "language_info": {
      "name": "python"
    }
  },
  "cells": [
    {
      "cell_type": "markdown",
      "metadata": {
        "id": "view-in-github",
        "colab_type": "text"
      },
      "source": [
        "<a href=\"https://colab.research.google.com/github/Swetha-18/Case_study_Amazon_Best_seller/blob/main/Case_study_Amazon_Best_seller_Swetha_bonkuri.ipynb\" target=\"_parent\"><img src=\"https://colab.research.google.com/assets/colab-badge.svg\" alt=\"Open In Colab\"/></a>"
      ]
    },
    {
      "cell_type": "code",
      "execution_count": null,
      "metadata": {
        "id": "LnM8d7AknI65"
      },
      "outputs": [],
      "source": [
        "# load necessary libraries\n",
        "import numpy as np\n",
        "import pandas as pd\n",
        "import matplotlib.pyplot as plt\n",
        "import seaborn as sns\n",
        "\n",
        "\n"
      ]
    },
    {
      "cell_type": "code",
      "source": [
        "# load the dataset\n",
        "df_bestselling = pd.read_csv(\"/content/archive (11).zip\")"
      ],
      "metadata": {
        "id": "HrX2539wnnwp"
      },
      "execution_count": null,
      "outputs": []
    },
    {
      "cell_type": "code",
      "source": [
        "# check the data\n",
        "df_bestselling"
      ],
      "metadata": {
        "colab": {
          "base_uri": "https://localhost:8080/",
          "height": 423
        },
        "id": "UiOFaJ3FsltY",
        "outputId": "2f2043ee-cf14-4d4f-a783-b1256cc64c03"
      },
      "execution_count": null,
      "outputs": [
        {
          "output_type": "execute_result",
          "data": {
            "text/plain": [
              "                                                  Name  \\\n",
              "0                        10-Day Green Smoothie Cleanse   \n",
              "1                                    11/22/63: A Novel   \n",
              "2              12 Rules for Life: An Antidote to Chaos   \n",
              "3                               1984 (Signet Classics)   \n",
              "4    5,000 Awesome Facts (About Everything!) (Natio...   \n",
              "..                                                 ...   \n",
              "545       Wrecking Ball (Diary of a Wimpy Kid Book 14)   \n",
              "546  You Are a Badass: How to Stop Doubting Your Gr...   \n",
              "547  You Are a Badass: How to Stop Doubting Your Gr...   \n",
              "548  You Are a Badass: How to Stop Doubting Your Gr...   \n",
              "549  You Are a Badass: How to Stop Doubting Your Gr...   \n",
              "\n",
              "                       Author  User Rating  Reviews  Price  Year        Genre  \n",
              "0                    JJ Smith          4.7    17350      8  2016  Non Fiction  \n",
              "1                Stephen King          4.6     2052     22  2011      Fiction  \n",
              "2          Jordan B. Peterson          4.7    18979     15  2018  Non Fiction  \n",
              "3               George Orwell          4.7    21424      6  2017      Fiction  \n",
              "4    National Geographic Kids          4.8     7665     12  2019  Non Fiction  \n",
              "..                        ...          ...      ...    ...   ...          ...  \n",
              "545               Jeff Kinney          4.9     9413      8  2019      Fiction  \n",
              "546               Jen Sincero          4.7    14331      8  2016  Non Fiction  \n",
              "547               Jen Sincero          4.7    14331      8  2017  Non Fiction  \n",
              "548               Jen Sincero          4.7    14331      8  2018  Non Fiction  \n",
              "549               Jen Sincero          4.7    14331      8  2019  Non Fiction  \n",
              "\n",
              "[550 rows x 7 columns]"
            ],
            "text/html": [
              "\n",
              "  <div id=\"df-79d7c859-0f05-443b-b5c8-d1220ab2d36f\" class=\"colab-df-container\">\n",
              "    <div>\n",
              "<style scoped>\n",
              "    .dataframe tbody tr th:only-of-type {\n",
              "        vertical-align: middle;\n",
              "    }\n",
              "\n",
              "    .dataframe tbody tr th {\n",
              "        vertical-align: top;\n",
              "    }\n",
              "\n",
              "    .dataframe thead th {\n",
              "        text-align: right;\n",
              "    }\n",
              "</style>\n",
              "<table border=\"1\" class=\"dataframe\">\n",
              "  <thead>\n",
              "    <tr style=\"text-align: right;\">\n",
              "      <th></th>\n",
              "      <th>Name</th>\n",
              "      <th>Author</th>\n",
              "      <th>User Rating</th>\n",
              "      <th>Reviews</th>\n",
              "      <th>Price</th>\n",
              "      <th>Year</th>\n",
              "      <th>Genre</th>\n",
              "    </tr>\n",
              "  </thead>\n",
              "  <tbody>\n",
              "    <tr>\n",
              "      <th>0</th>\n",
              "      <td>10-Day Green Smoothie Cleanse</td>\n",
              "      <td>JJ Smith</td>\n",
              "      <td>4.7</td>\n",
              "      <td>17350</td>\n",
              "      <td>8</td>\n",
              "      <td>2016</td>\n",
              "      <td>Non Fiction</td>\n",
              "    </tr>\n",
              "    <tr>\n",
              "      <th>1</th>\n",
              "      <td>11/22/63: A Novel</td>\n",
              "      <td>Stephen King</td>\n",
              "      <td>4.6</td>\n",
              "      <td>2052</td>\n",
              "      <td>22</td>\n",
              "      <td>2011</td>\n",
              "      <td>Fiction</td>\n",
              "    </tr>\n",
              "    <tr>\n",
              "      <th>2</th>\n",
              "      <td>12 Rules for Life: An Antidote to Chaos</td>\n",
              "      <td>Jordan B. Peterson</td>\n",
              "      <td>4.7</td>\n",
              "      <td>18979</td>\n",
              "      <td>15</td>\n",
              "      <td>2018</td>\n",
              "      <td>Non Fiction</td>\n",
              "    </tr>\n",
              "    <tr>\n",
              "      <th>3</th>\n",
              "      <td>1984 (Signet Classics)</td>\n",
              "      <td>George Orwell</td>\n",
              "      <td>4.7</td>\n",
              "      <td>21424</td>\n",
              "      <td>6</td>\n",
              "      <td>2017</td>\n",
              "      <td>Fiction</td>\n",
              "    </tr>\n",
              "    <tr>\n",
              "      <th>4</th>\n",
              "      <td>5,000 Awesome Facts (About Everything!) (Natio...</td>\n",
              "      <td>National Geographic Kids</td>\n",
              "      <td>4.8</td>\n",
              "      <td>7665</td>\n",
              "      <td>12</td>\n",
              "      <td>2019</td>\n",
              "      <td>Non Fiction</td>\n",
              "    </tr>\n",
              "    <tr>\n",
              "      <th>...</th>\n",
              "      <td>...</td>\n",
              "      <td>...</td>\n",
              "      <td>...</td>\n",
              "      <td>...</td>\n",
              "      <td>...</td>\n",
              "      <td>...</td>\n",
              "      <td>...</td>\n",
              "    </tr>\n",
              "    <tr>\n",
              "      <th>545</th>\n",
              "      <td>Wrecking Ball (Diary of a Wimpy Kid Book 14)</td>\n",
              "      <td>Jeff Kinney</td>\n",
              "      <td>4.9</td>\n",
              "      <td>9413</td>\n",
              "      <td>8</td>\n",
              "      <td>2019</td>\n",
              "      <td>Fiction</td>\n",
              "    </tr>\n",
              "    <tr>\n",
              "      <th>546</th>\n",
              "      <td>You Are a Badass: How to Stop Doubting Your Gr...</td>\n",
              "      <td>Jen Sincero</td>\n",
              "      <td>4.7</td>\n",
              "      <td>14331</td>\n",
              "      <td>8</td>\n",
              "      <td>2016</td>\n",
              "      <td>Non Fiction</td>\n",
              "    </tr>\n",
              "    <tr>\n",
              "      <th>547</th>\n",
              "      <td>You Are a Badass: How to Stop Doubting Your Gr...</td>\n",
              "      <td>Jen Sincero</td>\n",
              "      <td>4.7</td>\n",
              "      <td>14331</td>\n",
              "      <td>8</td>\n",
              "      <td>2017</td>\n",
              "      <td>Non Fiction</td>\n",
              "    </tr>\n",
              "    <tr>\n",
              "      <th>548</th>\n",
              "      <td>You Are a Badass: How to Stop Doubting Your Gr...</td>\n",
              "      <td>Jen Sincero</td>\n",
              "      <td>4.7</td>\n",
              "      <td>14331</td>\n",
              "      <td>8</td>\n",
              "      <td>2018</td>\n",
              "      <td>Non Fiction</td>\n",
              "    </tr>\n",
              "    <tr>\n",
              "      <th>549</th>\n",
              "      <td>You Are a Badass: How to Stop Doubting Your Gr...</td>\n",
              "      <td>Jen Sincero</td>\n",
              "      <td>4.7</td>\n",
              "      <td>14331</td>\n",
              "      <td>8</td>\n",
              "      <td>2019</td>\n",
              "      <td>Non Fiction</td>\n",
              "    </tr>\n",
              "  </tbody>\n",
              "</table>\n",
              "<p>550 rows × 7 columns</p>\n",
              "</div>\n",
              "    <div class=\"colab-df-buttons\">\n",
              "\n",
              "  <div class=\"colab-df-container\">\n",
              "    <button class=\"colab-df-convert\" onclick=\"convertToInteractive('df-79d7c859-0f05-443b-b5c8-d1220ab2d36f')\"\n",
              "            title=\"Convert this dataframe to an interactive table.\"\n",
              "            style=\"display:none;\">\n",
              "\n",
              "  <svg xmlns=\"http://www.w3.org/2000/svg\" height=\"24px\" viewBox=\"0 -960 960 960\">\n",
              "    <path d=\"M120-120v-720h720v720H120Zm60-500h600v-160H180v160Zm220 220h160v-160H400v160Zm0 220h160v-160H400v160ZM180-400h160v-160H180v160Zm440 0h160v-160H620v160ZM180-180h160v-160H180v160Zm440 0h160v-160H620v160Z\"/>\n",
              "  </svg>\n",
              "    </button>\n",
              "\n",
              "  <style>\n",
              "    .colab-df-container {\n",
              "      display:flex;\n",
              "      gap: 12px;\n",
              "    }\n",
              "\n",
              "    .colab-df-convert {\n",
              "      background-color: #E8F0FE;\n",
              "      border: none;\n",
              "      border-radius: 50%;\n",
              "      cursor: pointer;\n",
              "      display: none;\n",
              "      fill: #1967D2;\n",
              "      height: 32px;\n",
              "      padding: 0 0 0 0;\n",
              "      width: 32px;\n",
              "    }\n",
              "\n",
              "    .colab-df-convert:hover {\n",
              "      background-color: #E2EBFA;\n",
              "      box-shadow: 0px 1px 2px rgba(60, 64, 67, 0.3), 0px 1px 3px 1px rgba(60, 64, 67, 0.15);\n",
              "      fill: #174EA6;\n",
              "    }\n",
              "\n",
              "    .colab-df-buttons div {\n",
              "      margin-bottom: 4px;\n",
              "    }\n",
              "\n",
              "    [theme=dark] .colab-df-convert {\n",
              "      background-color: #3B4455;\n",
              "      fill: #D2E3FC;\n",
              "    }\n",
              "\n",
              "    [theme=dark] .colab-df-convert:hover {\n",
              "      background-color: #434B5C;\n",
              "      box-shadow: 0px 1px 3px 1px rgba(0, 0, 0, 0.15);\n",
              "      filter: drop-shadow(0px 1px 2px rgba(0, 0, 0, 0.3));\n",
              "      fill: #FFFFFF;\n",
              "    }\n",
              "  </style>\n",
              "\n",
              "    <script>\n",
              "      const buttonEl =\n",
              "        document.querySelector('#df-79d7c859-0f05-443b-b5c8-d1220ab2d36f button.colab-df-convert');\n",
              "      buttonEl.style.display =\n",
              "        google.colab.kernel.accessAllowed ? 'block' : 'none';\n",
              "\n",
              "      async function convertToInteractive(key) {\n",
              "        const element = document.querySelector('#df-79d7c859-0f05-443b-b5c8-d1220ab2d36f');\n",
              "        const dataTable =\n",
              "          await google.colab.kernel.invokeFunction('convertToInteractive',\n",
              "                                                    [key], {});\n",
              "        if (!dataTable) return;\n",
              "\n",
              "        const docLinkHtml = 'Like what you see? Visit the ' +\n",
              "          '<a target=\"_blank\" href=https://colab.research.google.com/notebooks/data_table.ipynb>data table notebook</a>'\n",
              "          + ' to learn more about interactive tables.';\n",
              "        element.innerHTML = '';\n",
              "        dataTable['output_type'] = 'display_data';\n",
              "        await google.colab.output.renderOutput(dataTable, element);\n",
              "        const docLink = document.createElement('div');\n",
              "        docLink.innerHTML = docLinkHtml;\n",
              "        element.appendChild(docLink);\n",
              "      }\n",
              "    </script>\n",
              "  </div>\n",
              "\n",
              "\n",
              "<div id=\"df-17a45885-bfa7-4b9b-9da0-09afab54440c\">\n",
              "  <button class=\"colab-df-quickchart\" onclick=\"quickchart('df-17a45885-bfa7-4b9b-9da0-09afab54440c')\"\n",
              "            title=\"Suggest charts.\"\n",
              "            style=\"display:none;\">\n",
              "\n",
              "<svg xmlns=\"http://www.w3.org/2000/svg\" height=\"24px\"viewBox=\"0 0 24 24\"\n",
              "     width=\"24px\">\n",
              "    <g>\n",
              "        <path d=\"M19 3H5c-1.1 0-2 .9-2 2v14c0 1.1.9 2 2 2h14c1.1 0 2-.9 2-2V5c0-1.1-.9-2-2-2zM9 17H7v-7h2v7zm4 0h-2V7h2v10zm4 0h-2v-4h2v4z\"/>\n",
              "    </g>\n",
              "</svg>\n",
              "  </button>\n",
              "\n",
              "<style>\n",
              "  .colab-df-quickchart {\n",
              "      --bg-color: #E8F0FE;\n",
              "      --fill-color: #1967D2;\n",
              "      --hover-bg-color: #E2EBFA;\n",
              "      --hover-fill-color: #174EA6;\n",
              "      --disabled-fill-color: #AAA;\n",
              "      --disabled-bg-color: #DDD;\n",
              "  }\n",
              "\n",
              "  [theme=dark] .colab-df-quickchart {\n",
              "      --bg-color: #3B4455;\n",
              "      --fill-color: #D2E3FC;\n",
              "      --hover-bg-color: #434B5C;\n",
              "      --hover-fill-color: #FFFFFF;\n",
              "      --disabled-bg-color: #3B4455;\n",
              "      --disabled-fill-color: #666;\n",
              "  }\n",
              "\n",
              "  .colab-df-quickchart {\n",
              "    background-color: var(--bg-color);\n",
              "    border: none;\n",
              "    border-radius: 50%;\n",
              "    cursor: pointer;\n",
              "    display: none;\n",
              "    fill: var(--fill-color);\n",
              "    height: 32px;\n",
              "    padding: 0;\n",
              "    width: 32px;\n",
              "  }\n",
              "\n",
              "  .colab-df-quickchart:hover {\n",
              "    background-color: var(--hover-bg-color);\n",
              "    box-shadow: 0 1px 2px rgba(60, 64, 67, 0.3), 0 1px 3px 1px rgba(60, 64, 67, 0.15);\n",
              "    fill: var(--button-hover-fill-color);\n",
              "  }\n",
              "\n",
              "  .colab-df-quickchart-complete:disabled,\n",
              "  .colab-df-quickchart-complete:disabled:hover {\n",
              "    background-color: var(--disabled-bg-color);\n",
              "    fill: var(--disabled-fill-color);\n",
              "    box-shadow: none;\n",
              "  }\n",
              "\n",
              "  .colab-df-spinner {\n",
              "    border: 2px solid var(--fill-color);\n",
              "    border-color: transparent;\n",
              "    border-bottom-color: var(--fill-color);\n",
              "    animation:\n",
              "      spin 1s steps(1) infinite;\n",
              "  }\n",
              "\n",
              "  @keyframes spin {\n",
              "    0% {\n",
              "      border-color: transparent;\n",
              "      border-bottom-color: var(--fill-color);\n",
              "      border-left-color: var(--fill-color);\n",
              "    }\n",
              "    20% {\n",
              "      border-color: transparent;\n",
              "      border-left-color: var(--fill-color);\n",
              "      border-top-color: var(--fill-color);\n",
              "    }\n",
              "    30% {\n",
              "      border-color: transparent;\n",
              "      border-left-color: var(--fill-color);\n",
              "      border-top-color: var(--fill-color);\n",
              "      border-right-color: var(--fill-color);\n",
              "    }\n",
              "    40% {\n",
              "      border-color: transparent;\n",
              "      border-right-color: var(--fill-color);\n",
              "      border-top-color: var(--fill-color);\n",
              "    }\n",
              "    60% {\n",
              "      border-color: transparent;\n",
              "      border-right-color: var(--fill-color);\n",
              "    }\n",
              "    80% {\n",
              "      border-color: transparent;\n",
              "      border-right-color: var(--fill-color);\n",
              "      border-bottom-color: var(--fill-color);\n",
              "    }\n",
              "    90% {\n",
              "      border-color: transparent;\n",
              "      border-bottom-color: var(--fill-color);\n",
              "    }\n",
              "  }\n",
              "</style>\n",
              "\n",
              "  <script>\n",
              "    async function quickchart(key) {\n",
              "      const quickchartButtonEl =\n",
              "        document.querySelector('#' + key + ' button');\n",
              "      quickchartButtonEl.disabled = true;  // To prevent multiple clicks.\n",
              "      quickchartButtonEl.classList.add('colab-df-spinner');\n",
              "      try {\n",
              "        const charts = await google.colab.kernel.invokeFunction(\n",
              "            'suggestCharts', [key], {});\n",
              "      } catch (error) {\n",
              "        console.error('Error during call to suggestCharts:', error);\n",
              "      }\n",
              "      quickchartButtonEl.classList.remove('colab-df-spinner');\n",
              "      quickchartButtonEl.classList.add('colab-df-quickchart-complete');\n",
              "    }\n",
              "    (() => {\n",
              "      let quickchartButtonEl =\n",
              "        document.querySelector('#df-17a45885-bfa7-4b9b-9da0-09afab54440c button');\n",
              "      quickchartButtonEl.style.display =\n",
              "        google.colab.kernel.accessAllowed ? 'block' : 'none';\n",
              "    })();\n",
              "  </script>\n",
              "</div>\n",
              "    </div>\n",
              "  </div>\n"
            ]
          },
          "metadata": {},
          "execution_count": 32
        }
      ]
    },
    {
      "cell_type": "code",
      "source": [
        "# check the info of data set\n",
        "df_bestselling.info()"
      ],
      "metadata": {
        "colab": {
          "base_uri": "https://localhost:8080/"
        },
        "id": "7SDupc3qnxjD",
        "outputId": "20a3f43a-dfd3-4291-f94c-df17705ee304"
      },
      "execution_count": null,
      "outputs": [
        {
          "output_type": "stream",
          "name": "stdout",
          "text": [
            "<class 'pandas.core.frame.DataFrame'>\n",
            "RangeIndex: 550 entries, 0 to 549\n",
            "Data columns (total 7 columns):\n",
            " #   Column       Non-Null Count  Dtype  \n",
            "---  ------       --------------  -----  \n",
            " 0   Name         550 non-null    object \n",
            " 1   Author       550 non-null    object \n",
            " 2   User Rating  550 non-null    float64\n",
            " 3   Reviews      550 non-null    int64  \n",
            " 4   Price        550 non-null    int64  \n",
            " 5   Year         550 non-null    int64  \n",
            " 6   Genre        550 non-null    object \n",
            "dtypes: float64(1), int64(3), object(3)\n",
            "memory usage: 30.2+ KB\n"
          ]
        }
      ]
    },
    {
      "cell_type": "code",
      "source": [
        "# check for any issing values\n",
        "df_bestselling.isnull().sum()"
      ],
      "metadata": {
        "colab": {
          "base_uri": "https://localhost:8080/"
        },
        "id": "OAOkdN6-n1JV",
        "outputId": "b94f2000-ab97-49ca-abd6-3cb14625f309"
      },
      "execution_count": null,
      "outputs": [
        {
          "output_type": "execute_result",
          "data": {
            "text/plain": [
              "Name           0\n",
              "Author         0\n",
              "User Rating    0\n",
              "Reviews        0\n",
              "Price          0\n",
              "Year           0\n",
              "Genre          0\n",
              "dtype: int64"
            ]
          },
          "metadata": {},
          "execution_count": 34
        }
      ]
    },
    {
      "cell_type": "code",
      "source": [
        "# check column names\n",
        "column_names = df_bestselling.columns\n",
        "print(column_names)"
      ],
      "metadata": {
        "colab": {
          "base_uri": "https://localhost:8080/"
        },
        "id": "YBG7YeWorgKY",
        "outputId": "5a07cf5c-6a63-4d01-fc87-471aa388a081"
      },
      "execution_count": null,
      "outputs": [
        {
          "output_type": "stream",
          "name": "stdout",
          "text": [
            "Index(['Name', 'Author', 'User Rating', 'Reviews', 'Price', 'Year', 'Genre'], dtype='object')\n"
          ]
        }
      ]
    },
    {
      "cell_type": "code",
      "source": [
        "# 1. How many records are in the dataset?\n",
        "# Defining a function to count records (rows) in a DataFrame\n",
        "def count_records(data_frame):\n",
        "  return len(data_frame)\n",
        "\n",
        "# Call the count_records function to count the number of records in df_bestselling\n",
        "\n",
        "num_records = count_records(df_bestselling)\n",
        "\n",
        "# Print the number of records in the dataset\n",
        "print(num_records)\n"
      ],
      "metadata": {
        "colab": {
          "base_uri": "https://localhost:8080/"
        },
        "id": "Oye_5Qmin5XG",
        "outputId": "e326b515-82e7-4b79-b787-b57839b97517"
      },
      "execution_count": null,
      "outputs": [
        {
          "output_type": "stream",
          "name": "stdout",
          "text": [
            "550\n"
          ]
        }
      ]
    },
    {
      "cell_type": "code",
      "source": [
        "# 2. What is the distribution of book genres?\n",
        "\n",
        "# Using the value_counts() function to count the occurrences of each genre\n",
        "genre_distribution = df_bestselling['Genre'].value_counts()\n",
        "\n",
        "\n",
        "# Print the distribution of book genres\n",
        "print(\"Distribution of Book Genres:\")\n",
        "print(genre_distribution)"
      ],
      "metadata": {
        "colab": {
          "base_uri": "https://localhost:8080/"
        },
        "id": "o8jF-m2Bo_R-",
        "outputId": "26f15aa6-0fc1-4260-b10d-9f07c4b0ba20"
      },
      "execution_count": null,
      "outputs": [
        {
          "output_type": "stream",
          "name": "stdout",
          "text": [
            "Distribution of Book Genres:\n",
            "Non Fiction    310\n",
            "Fiction        240\n",
            "Name: Genre, dtype: int64\n"
          ]
        }
      ]
    },
    {
      "cell_type": "code",
      "source": [
        "# 3. Who are the top 5 authors with the most books in the dataset?\n",
        "\n",
        "# Use the value_counts() function to count the occurrences of each author\n",
        "author_counts = df_bestselling[\"Author\"].value_counts()\n",
        "\n",
        "# Get the top 5 authors with the most books\n",
        "top_5_authors = author_counts.head(5)\n",
        "\n",
        "# Print the top 5 authors with the most books\n",
        "print(\"Top 5 Authors with the Most Books:\")\n",
        "print(top_5_authors)\n"
      ],
      "metadata": {
        "colab": {
          "base_uri": "https://localhost:8080/"
        },
        "id": "QhhDwAVKp_Hf",
        "outputId": "71ce107a-3fab-43de-b542-4183df547e10"
      },
      "execution_count": null,
      "outputs": [
        {
          "output_type": "stream",
          "name": "stdout",
          "text": [
            "Top 5 Authors with the Most Books:\n",
            "Jeff Kinney                           12\n",
            "Gary Chapman                          11\n",
            "Rick Riordan                          11\n",
            "Suzanne Collins                       11\n",
            "American Psychological Association    10\n",
            "Name: Author, dtype: int64\n"
          ]
        }
      ]
    },
    {
      "cell_type": "code",
      "source": [
        "# 4. What is the average rating of the books in the dataset?\n",
        "\n",
        "# Calculate the average rating\n",
        "average_rating = df_bestselling[\"User Rating\"].mean()\n",
        "\n",
        "# Print the average rating\n",
        "print(average_rating)"
      ],
      "metadata": {
        "colab": {
          "base_uri": "https://localhost:8080/"
        },
        "id": "K2biyZv1tgAI",
        "outputId": "48dd5277-1b89-4a68-e511-7383a5b935c2"
      },
      "execution_count": null,
      "outputs": [
        {
          "output_type": "stream",
          "name": "stdout",
          "text": [
            "4.618363636363637\n"
          ]
        }
      ]
    },
    {
      "cell_type": "code",
      "source": [
        "# 5. What is the average price of the books?\n",
        "# Calculate the average price\n",
        "average_price = df_bestselling[\"Price\"].mean()\n",
        "\n",
        "# Print the average price\n",
        "print(average_price)"
      ],
      "metadata": {
        "colab": {
          "base_uri": "https://localhost:8080/"
        },
        "id": "SfgLfdwjujT6",
        "outputId": "fc4714fc-f876-4abf-8190-c5914ea70282"
      },
      "execution_count": null,
      "outputs": [
        {
          "output_type": "stream",
          "name": "stdout",
          "text": [
            "13.1\n"
          ]
        }
      ]
    },
    {
      "cell_type": "code",
      "source": [
        "# 6. What is the range of years in which the books were published?\n",
        "\n",
        "# Identify the publication year column\n",
        "publication_years = df_bestselling[\"Year\"]\n",
        "\n",
        "# Find the minimum and maximum publication years\n",
        "min_year = publication_years.min()\n",
        "max_year = publication_years.max()\n",
        "\n",
        "# Print the range of years\n",
        "print(min_year, max_year)\n",
        "\n"
      ],
      "metadata": {
        "id": "fiSKtGIAvNOO",
        "colab": {
          "base_uri": "https://localhost:8080/"
        },
        "outputId": "b42cb05a-24be-44ab-8c70-532bad934e3f"
      },
      "execution_count": null,
      "outputs": [
        {
          "output_type": "stream",
          "name": "stdout",
          "text": [
            "2009 2019\n"
          ]
        }
      ]
    },
    {
      "cell_type": "code",
      "source": [
        "# 7. What are the top 5 most reviewed books?\n",
        "\n",
        "# Sort the DataFrame by the 'Reviews' column in descending order\n",
        "# This will order the books with the most reviews at the top\n",
        "sorted_books = df_bestselling.sort_values('Reviews', ascending = False)\n",
        "\n",
        "\n",
        "# Get the top 5 most reviewed books\n",
        "top_5_books = sorted_books.head(5)\n",
        "\n",
        "# Print the top 5 most reviewed books\n",
        "print(\"Top 5 Most Reviewed Books:\")\n",
        "print(top_5_books[['Name', 'Author', 'Reviews']])"
      ],
      "metadata": {
        "colab": {
          "base_uri": "https://localhost:8080/"
        },
        "id": "Azcn62LEdbg-",
        "outputId": "18be7a6b-01ed-4d3e-a08e-8014f4ab8d7f"
      },
      "execution_count": null,
      "outputs": [
        {
          "output_type": "stream",
          "name": "stdout",
          "text": [
            "Top 5 Most Reviewed Books:\n",
            "                        Name          Author  Reviews\n",
            "534  Where the Crawdads Sing     Delia Owens    87841\n",
            "382    The Girl on the Train   Paula Hawkins    79446\n",
            "383    The Girl on the Train   Paula Hawkins    79446\n",
            "32                  Becoming  Michelle Obama    61133\n",
            "33                  Becoming  Michelle Obama    61133\n"
          ]
        }
      ]
    },
    {
      "cell_type": "code",
      "source": [
        "# 8. What is the distribution of book ratings?\n",
        " # Extract the 'Rating' column as a Series\n",
        "ratings = df_bestselling[\"User Rating\"]\n",
        "\n",
        " # Create a histogram of book ratings\n",
        "plt.figure(figsize=(10,6))\n",
        "plt.hist(ratings, bins=30, color= 'skyblue', edgecolor='black')\n",
        "plt.title(\"Distribution of Book Ratings\")\n",
        "plt.xlabel('Rating')\n",
        "plt.ylabel('Frequency')\n",
        "plt.grid(True)\n",
        "plt.show()"
      ],
      "metadata": {
        "id": "hXoHSGx_pIb0",
        "colab": {
          "base_uri": "https://localhost:8080/",
          "height": 564
        },
        "outputId": "17ad27dd-59f5-4c35-87ef-3390d04bc4c5"
      },
      "execution_count": null,
      "outputs": [
        {
          "output_type": "display_data",
          "data": {
            "text/plain": [
              "<Figure size 1000x600 with 1 Axes>"
            ],
            "image/png": "[encoded data removed]"
          },
          "metadata": {}
        }
      ]
    },
    {
      "cell_type": "code",
      "source": [
        "# 9.How many books have a rating greater than 4.5?\n",
        "# Filter for books with a rating greater than 4.5 stars\n",
        "df_filtered = df_bestselling[df_bestselling[\"Reviews\"] > 4.5]\n",
        "\n",
        "# Get the number of books\n",
        "number_of_books = df_filtered.shape[0]\n",
        "\n",
        "# Print the number of books\n",
        "print(number_of_books)\n",
        "\n"
      ],
      "metadata": {
        "id": "Uot_87UapoN9",
        "colab": {
          "base_uri": "https://localhost:8080/"
        },
        "outputId": "72678640-92fa-441f-b090-d3636e98418b"
      },
      "execution_count": null,
      "outputs": [
        {
          "output_type": "stream",
          "name": "stdout",
          "text": [
            "550\n"
          ]
        }
      ]
    },
    {
      "cell_type": "code",
      "source": [
        "# 10. What is the most common price range for books?\n",
        "\n",
        "\n",
        "# Get the price range\n",
        "price_range = df_bestselling[\"Price\"].value_counts().sort_values(ascending=False)\n",
        "\n",
        "# Print the price range\n",
        "print(price_range.head(1))"
      ],
      "metadata": {
        "id": "HC-BsZrdppdD",
        "colab": {
          "base_uri": "https://localhost:8080/"
        },
        "outputId": "8d312c36-b8ac-44fc-ddb5-4ffb90d7b04e"
      },
      "execution_count": null,
      "outputs": [
        {
          "output_type": "stream",
          "name": "stdout",
          "text": [
            "8    52\n",
            "Name: Price, dtype: int64\n"
          ]
        }
      ]
    },
    {
      "cell_type": "code",
      "source": [
        "# or we can also create a histogram  that displays the distribution of book prices\n",
        "# and identify the price range with the highest frequency\n",
        "\n",
        "\n",
        "# Plot a histogram of book prices with 20 bins, skyblue color, and black edges\n",
        "\n",
        "plt.figure(figsize=(12,6))\n",
        "plt.hist(df_bestselling['Price'], bins=20, color='skyblue', edgecolor='black')\n",
        "plt.xlabel(\"Price Range\")   # Label for the x-axis\n",
        "plt.ylabel(\"Number of Books\")  # Label for the y-axis\n",
        "plt.title(\"Distribution of Book Prices\")    # Set the plot title\n",
        "plt.grid(True)\n",
        "\n",
        "# Show the histogram\n",
        "plt.show()"
      ],
      "metadata": {
        "colab": {
          "base_uri": "https://localhost:8080/",
          "height": 564
        },
        "id": "SJp1fkZJwerG",
        "outputId": "5daf5bcc-eb7b-4ba7-a897-49f4c7a09116"
      },
      "execution_count": null,
      "outputs": [
        {
          "output_type": "display_data",
          "data": {
            "text/plain": [
              "<Figure size 1200x600 with 1 Axes>"
            ],
            "image/png": "[encoded data removed]"
          },
          "metadata": {}
        }
      ]
    },
    {
      "cell_type": "code",
      "source": [
        "# 11. What is the average number of reviews for books in each genre?\n",
        "\n",
        "# Get the average number of reviews for each genre\n",
        "average_no_of_reviews_for_each_genre = df_bestselling.groupby(\"Genre\")[\"Reviews\"].mean()\n",
        "\n",
        "# Print the result\n",
        "print(average_no_of_reviews_for_each_genre)\n",
        "\n"
      ],
      "metadata": {
        "colab": {
          "base_uri": "https://localhost:8080/"
        },
        "id": "todYktBc0Uxp",
        "outputId": "3d3afb14-dfa8-4922-95b1-0a4167ad24e9"
      },
      "execution_count": null,
      "outputs": [
        {
          "output_type": "stream",
          "name": "stdout",
          "text": [
            "Genre\n",
            "Fiction        15683.791667\n",
            "Non Fiction     9065.145161\n",
            "Name: Reviews, dtype: float64\n"
          ]
        }
      ]
    },
    {
      "cell_type": "code",
      "source": [
        "# 12. How does the average price vary across different genres?\n",
        "# Get the average number of reviews for each genre\n",
        "average_price_per_genre = df_bestselling.groupby(\"Genre\")[\"Price\"].mean()\n",
        "\n",
        "# Print the result\n",
        "print(average_price_per_genre)\n"
      ],
      "metadata": {
        "colab": {
          "base_uri": "https://localhost:8080/"
        },
        "id": "43JupEq43pMS",
        "outputId": "27a1a155-5bbd-42c8-f3c6-f2af73b57792"
      },
      "execution_count": null,
      "outputs": [
        {
          "output_type": "stream",
          "name": "stdout",
          "text": [
            "Genre\n",
            "Fiction        10.850000\n",
            "Non Fiction    14.841935\n",
            "Name: Price, dtype: float64\n"
          ]
        }
      ]
    },
    {
      "cell_type": "code",
      "source": [
        "# checking genre\n",
        "df_bestselling['Genre']"
      ],
      "metadata": {
        "colab": {
          "base_uri": "https://localhost:8080/"
        },
        "id": "g6_SvYmL49Ic",
        "outputId": "9be32310-161f-4b0c-ab94-23a8df77ccc8"
      },
      "execution_count": null,
      "outputs": [
        {
          "output_type": "execute_result",
          "data": {
            "text/plain": [
              "0      Non Fiction\n",
              "1          Fiction\n",
              "2      Non Fiction\n",
              "3          Fiction\n",
              "4      Non Fiction\n",
              "          ...     \n",
              "545        Fiction\n",
              "546    Non Fiction\n",
              "547    Non Fiction\n",
              "548    Non Fiction\n",
              "549    Non Fiction\n",
              "Name: Genre, Length: 550, dtype: object"
            ]
          },
          "metadata": {},
          "execution_count": 49
        }
      ]
    },
    {
      "cell_type": "code",
      "source": [
        "# 13. What is the relationship between the number of reviews and the rating of books?\n",
        "\n",
        "# Calculate the correlation between the number of reviews and the rating\n",
        "correlation = df_bestselling['User Rating'].corr(df_bestselling['Reviews'])\n",
        "\n",
        "# Print the correlation\n",
        "print(correlation)"
      ],
      "metadata": {
        "id": "J4-qDSii5XxX",
        "colab": {
          "base_uri": "https://localhost:8080/"
        },
        "outputId": "1a1364d1-bea1-4dc2-9ca6-2f012e13f2c9"
      },
      "execution_count": null,
      "outputs": [
        {
          "output_type": "stream",
          "name": "stdout",
          "text": [
            "-0.0017290142555501195\n"
          ]
        }
      ]
    },
    {
      "cell_type": "code",
      "source": [
        "# or to  explore the relationship between the number of reviews and the rating of books, we can create a scatter plot.\n",
        "#  In a scatter plot, we can visualize how these two variables are distributed and whether there is any correlation or pattern\n",
        "plt.figure(figsize=(10,6))\n",
        "plt.scatter(df_bestselling['User Rating'],df_bestselling['Reviews'], alpha=0.5, color='skyblue')\n",
        "plt.title('Relationship between the number of Reviews and the Rating of books')\n",
        "plt.xlabel('Number of Reviews')\n",
        "plt.ylabel('Rating')\n",
        "# Show the scatter plot\n",
        "plt.show()"
      ],
      "metadata": {
        "colab": {
          "base_uri": "https://localhost:8080/",
          "height": 564
        },
        "id": "abOD11XgVKb2",
        "outputId": "8afbe86e-4828-45ff-ad3a-bf4e27e7b7f9"
      },
      "execution_count": null,
      "outputs": [
        {
          "output_type": "display_data",
          "data": {
            "text/plain": [
              "<Figure size 1000x600 with 1 Axes>"
            ],
            "image/png": "[encoded data removed]"
          },
          "metadata": {}
        }
      ]
    },
    {
      "cell_type": "code",
      "source": [
        "# 14. What are the top 5 books with the highest ratings and the highest number of reviews?\n",
        "\n",
        "# Sort the DataFrame by 'User Rating' and 'Reviews' in descending order\n",
        "top_books = df_bestselling.sort_values(['User Rating', 'Reviews'], ascending=False)\n",
        "\n",
        "# Select the top 5 books\n",
        "top_5_books = top_books.head(5)\n",
        "\n",
        "#print the result\n",
        "print(top_5_books)"
      ],
      "metadata": {
        "colab": {
          "base_uri": "https://localhost:8080/"
        },
        "id": "Q6WDmD-bXy-6",
        "outputId": "98ec4a36-80f1-457e-d20d-d5d0e813a11c"
      },
      "execution_count": null,
      "outputs": [
        {
          "output_type": "stream",
          "name": "stdout",
          "text": [
            "                          Name     Author  User Rating  Reviews  Price  Year  \\\n",
            "245  Oh, the Places You'll Go!  Dr. Seuss          4.9    21834      8  2012   \n",
            "246  Oh, the Places You'll Go!  Dr. Seuss          4.9    21834      8  2013   \n",
            "247  Oh, the Places You'll Go!  Dr. Seuss          4.9    21834      8  2014   \n",
            "248  Oh, the Places You'll Go!  Dr. Seuss          4.9    21834      8  2015   \n",
            "249  Oh, the Places You'll Go!  Dr. Seuss          4.9    21834      8  2016   \n",
            "\n",
            "       Genre  \n",
            "245  Fiction  \n",
            "246  Fiction  \n",
            "247  Fiction  \n",
            "248  Fiction  \n",
            "249  Fiction  \n"
          ]
        }
      ]
    },
    {
      "cell_type": "code",
      "source": [
        "# 15. How has the number of bestseller books published per year changed over time?\n",
        "\n",
        "# Group the data by year\n",
        "df_grouped = df_bestselling.groupby('Year')\n",
        "\n",
        "# Calculate the number of bestseller books published per year\n",
        "no_of_bestsellers_per_year = df_grouped.size()\n",
        "\n",
        "\n",
        "# Plot the results as a bar chart\n",
        "plt.figure(figsize=(12,6))\n",
        "no_of_bestsellers_per_year.plot(kind='bar',  color='skyblue')\n",
        "plt.title('Number of Bestseller Books Published Per Year')\n",
        "plt.xlabel('Year')\n",
        "plt.ylabel('Number of Books')\n",
        "\n",
        "# Enable the grid lines on the plot\n",
        "plt.grid(True)\n",
        "\n",
        "# Display the plot\n",
        "plt.show()\n"
      ],
      "metadata": {
        "colab": {
          "base_uri": "https://localhost:8080/",
          "height": 585
        },
        "id": "zvhn3aR-Zq6x",
        "outputId": "7ad0468b-6ca5-40cf-c18e-e9944cecb42b"
      },
      "execution_count": null,
      "outputs": [
        {
          "output_type": "display_data",
          "data": {
            "text/plain": [
              "<Figure size 1200x600 with 1 Axes>"
            ],
            "image/png": "[encoded data removed]"
          },
          "metadata": {}
        }
      ]
    },
    {
      "cell_type": "code",
      "source": [
        "\n"
      ],
      "metadata": {
        "id": "LhVmTBIPaDTf"
      },
      "execution_count": null,
      "outputs": []
    }
  ]
}